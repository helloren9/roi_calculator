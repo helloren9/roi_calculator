{
 "cells": [
  {
   "cell_type": "code",
   "execution_count": 8,
   "metadata": {},
   "outputs": [
    {
     "name": "stdout",
     "output_type": "stream",
     "text": [
      "Cash on Cash ROI: -110.84\n"
     ]
    }
   ],
   "source": [
    "class Income:\n",
    "    def __init__(self, rental_income, laundry_income, storage_income, misc_income):\n",
    "        self.rental_income = rental_income\n",
    "        self.laundry_income = laundry_income\n",
    "        self.storage_income = storage_income\n",
    "        self.misc_income = misc_income\n",
    "\n",
    "    def total_monthly_income(self):\n",
    "        return self.rental_income + self.laundry_income + self.storage_income + self.misc_income\n",
    "    \n",
    "class Expenses:\n",
    "    def __init__(self, taxes, insurance, closing_cost, rehab_budget, electric, water, sewer, trash, gas, hoa, landscape, vacancy, repairs, capex, mortgage, property_management):\n",
    "        self.taxes = taxes\n",
    "        self.insurance = insurance\n",
    "        self.closing_cost = closing_cost\n",
    "        self.rehab_budget = rehab_budget\n",
    "        self.electric = electric\n",
    "        self.water = water\n",
    "        self.sewer = sewer\n",
    "        self.trash = trash\n",
    "        self.gas = gas\n",
    "        self.hoa = hoa\n",
    "        self.landscape = landscape\n",
    "        self.vacancy = vacancy\n",
    "        self.repairs = repairs\n",
    "        self.capex = capex\n",
    "        self.mortgage = mortgage\n",
    "        self.property_management = property_management\n",
    "\n",
    "    def total_monthly_expense(self):\n",
    "        return self.taxes + self.insurance + self.closing_cost + self.rehab_budget + self.electric + self.water + self.sewer + self.trash + self.gas + self.hoa + self.landscape + self.vacancy + self.repairs + self.capex + self.mortgage + self.property_management\n",
    "    \n",
    "class CashFlow:\n",
    "    def __init__(self, income, expenses, down_payment):\n",
    "        self.income = income\n",
    "        self.expenses = expenses\n",
    "        self.down_payment = down_payment\n",
    "\n",
    "    def cash_on_cash_roi(self):\n",
    "        annual_cash_flow = (self.income.total_monthly_income() - self.expenses.total_monthly_expense()) * 12\n",
    "        total_investment = self.down_payment + self.expenses.rehab_budget\n",
    "        return (annual_cash_flow / total_investment) * 100\n",
    "    \n",
    "income = Income(4000, 250, 100, 500)\n",
    "expenses = Expenses(200, 150, 3000, 5000, 30, 30, 20, 20, 30, 200, 100, 100, 200, 100, 600, 150)\n",
    "cash_flow = CashFlow(income, expenses, 50000)\n",
    "\n",
    "roi = cash_flow.cash_on_cash_roi()\n",
    "print(f\"Cash on Cash ROI: {roi:.2f}\")\n"
   ]
  },
  {
   "cell_type": "code",
   "execution_count": null,
   "metadata": {},
   "outputs": [],
   "source": []
  }
 ],
 "metadata": {
  "kernelspec": {
   "display_name": "Python 3",
   "language": "python",
   "name": "python3"
  },
  "language_info": {
   "codemirror_mode": {
    "name": "ipython",
    "version": 3
   },
   "file_extension": ".py",
   "mimetype": "text/x-python",
   "name": "python",
   "nbconvert_exporter": "python",
   "pygments_lexer": "ipython3",
   "version": "3.10.7"
  }
 },
 "nbformat": 4,
 "nbformat_minor": 2
}
